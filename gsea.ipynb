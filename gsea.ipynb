{
 "cells": [
  {
   "cell_type": "code",
   "execution_count": 1,
   "metadata": {},
   "outputs": [],
   "source": [
    "import scanpy as sc\n",
    "import pandas as pd\n",
    "import numpy as np\n",
    "import matplotlib.pyplot as plt\n",
    "import seaborn as sns\n",
    "import random\n",
    "\n",
    "np.random.RandomState(17)\n",
    "random.seed(17)"
   ]
  },
  {
   "cell_type": "code",
   "execution_count": null,
   "metadata": {},
   "outputs": [
    {
     "data": {
      "text/plain": [
       "AnnData object with n_obs × n_vars = 31401 × 12460\n",
       "    obs: 'batch', 'celda_decontx__clusters', 'celda_decontx__contamination', 'celda_decontx__doublemad_predicted_outliers', 'fca_id', 'id', 'log_n_counts', 'log_n_genes', 'n_counts', 'n_genes', 'percent_mito', 'sample_id', 'scrublet__doublet_scores', 'leiden_res0.4', 'leiden_res0.6', 'leiden_res0.8', 'leiden_res1.0', 'leiden_res1.2', 'leiden_res1.4', 'leiden_res1.6', 'leiden_res1.8', 'leiden_res10.0', 'leiden_res2.0', 'leiden_res4.0', 'leiden_res6.0', 'leiden_res8.0', 'annotation', 'broad_annotation', 'broad_annotation_extrapolated', 'label'\n",
       "    var: 'name'\n",
       "    obsm: 'X_x_pca', 'X_x_tsne', 'X_x_umap'"
      ]
     },
     "execution_count": 2,
     "metadata": {},
     "output_type": "execute_result"
    }
   ],
   "source": [
    "fca = sc.read(r\".\\raw_FCA_annotated.h5ad\")\n",
    "fca"
   ]
  },
  {
   "cell_type": "code",
   "execution_count": null,
   "metadata": {},
   "outputs": [
    {
     "data": {
      "text/plain": [
       "AnnData object with n_obs × n_vars = 18571 × 12460\n",
       "    obs: 'batch', 'celda_decontx__clusters', 'celda_decontx__contamination', 'celda_decontx__doublemad_predicted_outliers', 'fca_id', 'id', 'log_n_counts', 'log_n_genes', 'n_counts', 'n_genes', 'percent_mito', 'sample_id', 'scrublet__doublet_scores', 'leiden_res0.4', 'leiden_res0.6', 'leiden_res0.8', 'leiden_res1.0', 'leiden_res1.2', 'leiden_res1.4', 'leiden_res1.6', 'leiden_res1.8', 'leiden_res10.0', 'leiden_res2.0', 'leiden_res4.0', 'leiden_res6.0', 'leiden_res8.0', 'annotation', 'broad_annotation', 'broad_annotation_extrapolated', 'label'\n",
       "    var: 'name'\n",
       "    obsm: 'X_x_pca', 'X_x_tsne', 'X_x_umap'"
      ]
     },
     "execution_count": 3,
     "metadata": {},
     "output_type": "execute_result"
    }
   ],
   "source": [
    "def clean_label(label):\n",
    "    label = str(label).strip()\n",
    "    \n",
    "    if \"??\" in label or \"?\" in label:\n",
    "        label = label.replace(\"??\", \"\").replace(\"?\", \"\").strip()\n",
    "        label += \" (uncertain)\"\n",
    "    \n",
    "    label = label.replace(\"FCA_\", \"\").replace(\"CSantos_\", \"\")\n",
    "    \n",
    "    return label\n",
    "\n",
    "fca_soma = fca[fca.obs['label'].str.startswith('CSantos')].copy()\n",
    "\n",
    "fca_soma.obs['annotation'] = fca_soma.obs['label'].apply(clean_label)\n",
    "fca_soma"
   ]
  },
  {
   "cell_type": "code",
   "execution_count": 4,
   "metadata": {},
   "outputs": [
    {
     "data": {
      "text/plain": [
       "AnnData object with n_obs × n_vars = 18571 × 12460\n",
       "    obs: 'batch', 'celda_decontx__clusters', 'celda_decontx__contamination', 'celda_decontx__doublemad_predicted_outliers', 'fca_id', 'id', 'log_n_counts', 'log_n_genes', 'n_counts', 'n_genes', 'percent_mito', 'sample_id', 'scrublet__doublet_scores', 'leiden_res0.4', 'leiden_res0.6', 'leiden_res0.8', 'leiden_res1.0', 'leiden_res1.2', 'leiden_res1.4', 'leiden_res1.6', 'leiden_res1.8', 'leiden_res10.0', 'leiden_res2.0', 'leiden_res4.0', 'leiden_res6.0', 'leiden_res8.0', 'annotation', 'broad_annotation', 'broad_annotation_extrapolated', 'label'\n",
       "    var: 'name'\n",
       "    obsm: 'X_pca', 'X_tsne', 'X_umap'"
      ]
     },
     "execution_count": 4,
     "metadata": {},
     "output_type": "execute_result"
    }
   ],
   "source": [
    "fca_soma.obsm[\"X_pca\"] = fca_soma.obsm.pop(\"X_x_pca\")\n",
    "fca_soma.obsm[\"X_tsne\"] = fca_soma.obsm.pop(\"X_x_tsne\")\n",
    "fca_soma.obsm[\"X_umap\"] = fca_soma.obsm.pop(\"X_x_umap\")\n",
    "\n",
    "fca_soma\n"
   ]
  },
  {
   "cell_type": "code",
   "execution_count": null,
   "metadata": {},
   "outputs": [],
   "source": [
    "fca_soma.obs[\"annotation\"] = fca_soma.obs[\"annotation\"].cat.add_categories([\n",
    "    \"MB St1-6-like cells (uncertain identity)\"\n",
    "])\n",
    "\n",
    "fca_soma.obs[\"annotation\"] = fca_soma.obs[\"annotation\"].mask(\n",
    "    fca_soma.obs[\"annotation\"].str.contains(\"MB St1-6\") & \n",
    "    fca_soma.obs[\"annotation\"].str.contains(\"don't think it's MB\"),\n",
    "    \"MB St1-6-like cells (uncertain identity)\"\n",
    ")\n",
    "fca_soma.obs[\"annotation\"] = fca_soma.obs[\"annotation\"].cat.remove_unused_categories()"
   ]
  },
  {
   "cell_type": "code",
   "execution_count": 6,
   "metadata": {},
   "outputs": [
    {
     "name": "stderr",
     "output_type": "stream",
     "text": [
      "c:\\Users\\unite\\miniconda3\\envs\\label_harmony\\Lib\\site-packages\\scanpy\\preprocessing\\_simple.py:404: UserWarning: Received a view of an AnnData. Making a copy.\n",
      "  view_to_actual(adata)\n",
      "c:\\Users\\unite\\miniconda3\\envs\\label_harmony\\Lib\\site-packages\\tqdm\\auto.py:21: TqdmWarning: IProgress not found. Please update jupyter and ipywidgets. See https://ipywidgets.readthedocs.io/en/stable/user_install.html\n",
      "  from .autonotebook import tqdm as notebook_tqdm\n"
     ]
    }
   ],
   "source": [
    "fca_soma.layers[\"counts\"] = fca_soma.X.copy()\n",
    "oviductless = fca_soma[~fca_soma.obs['label'].str.contains(\"oviduct\", case=False, na=False), :]\n",
    "\n",
    "\n",
    "sc.pp.log1p(oviductless)\n",
    "sc.pp.highly_variable_genes(oviductless, layer=\"counts\", n_top_genes=2000, flavor=\"seurat_v3\")\n",
    "\n",
    "sc.tl.pca(oviductless, n_comps=50)\n",
    "sc.pp.neighbors(oviductless)"
   ]
  },
  {
   "cell_type": "code",
   "execution_count": null,
   "metadata": {},
   "outputs": [],
   "source": [
    "sc.tl.umap(oviductless)\n",
    "sc.pl.umap(oviductless, color=[\"annotation\"], ncols = 1)"
   ]
  },
  {
   "cell_type": "markdown",
   "metadata": {},
   "source": [
    "## Gene sets"
   ]
  },
  {
   "cell_type": "code",
   "execution_count": null,
   "metadata": {},
   "outputs": [
    {
     "name": "stderr",
     "output_type": "stream",
     "text": [
      "\u001b[33mWARNING [bioservices.KEGG:130]: \u001b[0m \u001b[32mThe URL (http://rest.kegg.jp) provided cannot be reached.\u001b[0m\n"
     ]
    },
    {
     "name": "stdout",
     "output_type": "stream",
     "text": [
      "                                             pathway   gene_symbol\n",
      "0  Glycolysis / Gluconeogenesis - Drosophila mela...  Dmel_CG10160\n",
      "1  Glycolysis / Gluconeogenesis - Drosophila mela...  Dmel_CG10202\n",
      "2  Glycolysis / Gluconeogenesis - Drosophila mela...  Dmel_CG10467\n",
      "3  Glycolysis / Gluconeogenesis - Drosophila mela...  Dmel_CG10924\n",
      "4  Glycolysis / Gluconeogenesis - Drosophila mela...  Dmel_CG10996\n"
     ]
    }
   ],
   "source": [
    "from bioservices import KEGG\n",
    "import pandas as pd\n",
    "\n",
    "kegg = KEGG()\n",
    "kegg.organism = \"dme\"\n",
    "\n",
    "pathway_list = kegg.list(\"pathway\", organism=\"dme\").strip().split(\"\\n\")\n",
    "\n",
    "pathways_df = pd.DataFrame([line.split(\"\\t\") for line in pathway_list], \n",
    "                           columns=[\"pathway_id\", \"description\"])\n",
    "\n",
    "pathways_of_interest = [\n",
    "    \"00010\",  # Glycolysis / Gluconeogenesis\n",
    "    \"00020\",  # Citrate cycle (TCA cycle)\n",
    "    \"00030\",  # Pentose phosphate pathway\n",
    "    \"00040\",  # Pentose and glucuronate interconversions\n",
    "    \"00051\",  # Fructose and mannose metabolism\n",
    "    \"00052\",  # Galactose metabolism\n",
    "    \"00053\",  # Ascorbate and aldarate metabolism\n",
    "    \"00500\",  # Starch and sucrose metabolism\n",
    "    \"00620\",  # Pyruvate metabolism\n",
    "    \"00630\",  # Glyoxylate and dicarboxylate metabolism\n",
    "    \"00640\",  # Propanoate metabolism\n",
    "    \"00650\",  # Butanoate metabolism\n",
    "    \"00562\",  # Inositol phosphate metabolism\n",
    "    \"00190\",  # Oxidative phosphorylation\n",
    "    \"00680\",  # Methane metabolism\n",
    "    \"00910\",  # Nitrogen metabolism\n",
    "    \"00061\",  # Fatty acid biosynthesis\n",
    "    \"00062\",  # Fatty acid elongation\n",
    "    \"00071\",  # Fatty acid degradation\n",
    "    \"00140\",  # Steroid biosynthesis\n",
    "    \"00561\",  # Glycerolipid metabolism\n",
    "    \"00564\",  # Glycerophospholipid metabolism\n",
    "    \"00565\",  # Sphingolipid metabolism\n",
    "    \"00600\",  # Selenocompound metabolism\n",
    "    \"00590\",  # Arachidonic acid metabolism\n",
    "    \"00591\",  # Linoleic acid metabolism\n",
    "    \"00592\",  # Alpha-linolenic acid metabolism\n",
    "    \"00230\",  # Purine metabolism\n",
    "    \"00240\",  # Pyrimidine metabolism\n",
    "    \"00250\",  # Amino sugar and nucleotide sugar metabolism\n",
    "    \"00260\",  # Glycosaminoglycan degradation\n",
    "    \"00270\",  # One carbon pool by folate\n",
    "    \"00280\",  # Valine, leucine and isoleucine degradation\n",
    "    \"00290\",  # Valine, leucine and isoleucine biosynthesis\n",
    "    \"00310\",  # Lysine biosynthesis\n",
    "    \"00220\",  # Arginine biosynthesis\n",
    "    \"00330\",  # Arginine and proline metabolism\n",
    "    \"00340\",  # Histidine metabolism\n",
    "    \"00350\",  # Tyrosine metabolism\n",
    "    \"00360\",  # Phenylalanine metabolism\n",
    "    \"00380\",  # Tryptophan metabolism\n",
    "    \"00400\",  # Phenylpropanoid biosynthesis\n",
    "    \"00410\",  # Beta-alanine metabolism\n",
    "    \"00430\",  # Propanoate metabolism (alternative)\n",
    "    \"00480\",  # Steroid hormone biosynthesis\n",
    "    \"00520\",  # Amino sugar and nucleotide sugar metabolism (alternative)\n",
    "    \"00510\",  # N-Glycan biosynthesis\n",
    "    \"00512\",  # N-Glycan biosynthesis (variant)\n",
    "    \"00513\",  # N-Glycan biosynthesis (alternative)\n",
    "    \"01040\",  # Biosynthesis of unsaturated fatty acids\n",
    "    \"00514\",  # Other glycan degradation\n",
    "    \"00515\",  # Glycosphingolipid biosynthesis – ganglio series\n",
    "    \"00563\",  # Glycosaminoglycan degradation (alternative)\n",
    "    \"00601\",  # Glycosphingolipid biosynthesis – globo series\n",
    "    \"00603\",  # Glycosphingolipid biosynthesis – lacto and neolacto series\n",
    "    \"00604\",  # Glycosphingolipid biosynthesis – ganglio series (variant)\n",
    "    \"00730\",  # Thiamine metabolism\n",
    "    \"00740\",  # Riboflavin metabolism\n",
    "    \"00750\",  # Pantothenate and CoA biosynthesis\n",
    "    \"00760\",  # Biotin metabolism\n",
    "    \"00770\",  # Folate biosynthesis\n",
    "    \"00780\",  # Vitamin B6 metabolism\n",
    "    \"00785\",  # Nicotinate and nicotinamide metabolism\n",
    "    \"00790\",  # Lipoic acid metabolism\n",
    "    \"00830\",  # Retinol metabolism\n",
    "    \"00670\",  # One carbon pool by folate (duplicate entry, may require review)\n",
    "    \"00130\",  # Ubiquinone and other terpenoid-quinone biosynthesis\n",
    "    \"00900\",  # Terpenoid backbone biosynthesis\n",
    "    \"00981\"   # Secondary bile acid biosynthesis\n",
    "]\n",
    "\n",
    "\n",
    "filtered_df = pathways_df[pathways_df[\"pathway_id\"].str[-5:].isin(pathways_of_interest)]\n",
    "\n",
    "gene_sets = {}\n",
    "\n",
    "for idx, row in filtered_df.iterrows():\n",
    "    pathway_id = row['pathway_id'].replace('path:', '')\n",
    "    pathway_name = row['description']\n",
    "    genes_info = kegg.get(pathway_id)\n",
    "    parsed = kegg.parse(genes_info)\n",
    "    \n",
    "    genes = []\n",
    "    if 'GENE' in parsed:\n",
    "        genes = [gene_id for gene_id in parsed['GENE'].keys()]\n",
    "    \n",
    "    gene_sets[pathway_name] = genes\n",
    "\n",
    "kegg_gene_sets_df = pd.DataFrame(\n",
    "    [(pathway, gene) for pathway, genes in gene_sets.items() for gene in genes],\n",
    "    columns=[\"pathway\", \"gene_symbol\"]\n",
    ")\n",
    "\n",
    "print(kegg_gene_sets_df.head())\n"
   ]
  },
  {
   "cell_type": "code",
   "execution_count": null,
   "metadata": {},
   "outputs": [],
   "source": [
    "net_raw = kegg_gene_sets_df.rename(columns={\"pathway\": \"source\",\n",
    "                                                 \"gene_symbol\": \"target\"})\n",
    "net_raw['target'] = net_raw['target'].str.replace(\"Dmel_\", \"\", regex=False)\n",
    "\n",
    "\n",
    "\n",
    "\n",
    "net_mapped   = net_raw.copy()                         \n",
    "net_filtered = None                                   "
   ]
  },
  {
   "cell_type": "code",
   "execution_count": null,
   "metadata": {},
   "outputs": [],
   "source": [
    "###mapping is performed here with the keys being extracted with the help of https://www.biotools.fr/drosophila/fbgn_converter \n",
    "mapping_df   = pd.read_csv(r\"id_validation_table_92436.txt\",\n",
    "                           sep=\"\\t\")\n",
    "mapping_dict = mapping_df.set_index(\"#submitted_item\")[\"current_symbol\"].to_dict()\n",
    "\n",
    "dataset_genes = set(oviductless.var_names)\n",
    "\n",
    "net_mapped['cg_id']  = net_mapped['target']\n",
    "net_mapped['symbol'] = net_mapped['cg_id'].map(mapping_dict)\n",
    "\n",
    "def choose_id(row):\n",
    "    sym, cg = row['symbol'], row['cg_id']\n",
    "    if pd.notna(sym) and sym in dataset_genes:\n",
    "        return sym\n",
    "    if cg in dataset_genes:\n",
    "        return cg\n",
    "    return pd.NA                             \n",
    "\n",
    "net_mapped['target'] = net_mapped.apply(choose_id, axis=1)"
   ]
  },
  {
   "cell_type": "code",
   "execution_count": 47,
   "metadata": {},
   "outputs": [],
   "source": [
    "net_filtered = (\n",
    "    net_mapped.dropna(subset=['target'])\n",
    "              .groupby('source')\n",
    "              .filter(lambda g: 10 <= g['target'].nunique() <= 500)\n",
    "              .copy()\n",
    ")"
   ]
  },
  {
   "cell_type": "code",
   "execution_count": 48,
   "metadata": {},
   "outputs": [
    {
     "name": "stdout",
     "output_type": "stream",
     "text": [
      "TOP 20 most affected pathways:\n"
     ]
    },
    {
     "data": {
      "application/vnd.microsoft.datawrangler.viewer.v0+json": {
       "columns": [
        {
         "name": "source",
         "rawType": "object",
         "type": "string"
        },
        {
         "name": "orig_size",
         "rawType": "int32",
         "type": "integer"
        },
        {
         "name": "post_size",
         "rawType": "int32",
         "type": "integer"
        },
        {
         "name": "lost",
         "rawType": "int32",
         "type": "integer"
        },
        {
         "name": "pct_retained",
         "rawType": "float64",
         "type": "float"
        }
       ],
       "conversionMethod": "pd.DataFrame",
       "ref": "b23fdd7c-3e10-440a-9cf9-0646f8f38559",
       "rows": [
        [
         "Vitamin B6 metabolism - Drosophila melanogaster (fruit fly)",
         "6",
         "0",
         "6",
         "0.0"
        ],
        [
         "Glycosphingolipid biosynthesis - lacto and neolacto series - Drosophila melanogaster (fruit fly)",
         "3",
         "0",
         "3",
         "0.0"
        ],
        [
         "Phenylalanine metabolism - Drosophila melanogaster (fruit fly)",
         "8",
         "0",
         "8",
         "0.0"
        ],
        [
         "Phenylalanine, tyrosine and tryptophan biosynthesis - Drosophila melanogaster (fruit fly)",
         "4",
         "0",
         "4",
         "0.0"
        ],
        [
         "Mannose type O-glycan biosynthesis - Drosophila melanogaster (fruit fly)",
         "4",
         "0",
         "4",
         "0.0"
        ],
        [
         "Taurine and hypotaurine metabolism - Drosophila melanogaster (fruit fly)",
         "9",
         "0",
         "9",
         "0.0"
        ],
        [
         "Glycosphingolipid biosynthesis - ganglio series - Drosophila melanogaster (fruit fly)",
         "5",
         "0",
         "5",
         "0.0"
        ],
        [
         "Histidine metabolism - Drosophila melanogaster (fruit fly)",
         "8",
         "0",
         "8",
         "0.0"
        ],
        [
         "Valine, leucine and isoleucine biosynthesis - Drosophila melanogaster (fruit fly)",
         "2",
         "0",
         "2",
         "0.0"
        ],
        [
         "Glycosphingolipid biosynthesis - globo and isoglobo series - Drosophila melanogaster (fruit fly)",
         "6",
         "0",
         "6",
         "0.0"
        ],
        [
         "Ubiquinone and other terpenoid-quinone biosynthesis - Drosophila melanogaster (fruit fly)",
         "10",
         "0",
         "10",
         "0.0"
        ],
        [
         "Biotin metabolism - Drosophila melanogaster (fruit fly)",
         "2",
         "0",
         "2",
         "0.0"
        ],
        [
         "Riboflavin metabolism - Drosophila melanogaster (fruit fly)",
         "9",
         "0",
         "9",
         "0.0"
        ],
        [
         "Citrate cycle (TCA cycle) - Drosophila melanogaster (fruit fly)",
         "43",
         "22",
         "21",
         "51.16279069767442"
        ],
        [
         "Fatty acid elongation - Drosophila melanogaster (fruit fly)",
         "17",
         "10",
         "7",
         "58.8235294117647"
        ],
        [
         "Starch and sucrose metabolism - Drosophila melanogaster (fruit fly)",
         "32",
         "19",
         "13",
         "59.375"
        ],
        [
         "Thiamine metabolism - Drosophila melanogaster (fruit fly)",
         "21",
         "13",
         "8",
         "61.904761904761905"
        ],
        [
         "Fructose and mannose metabolism - Drosophila melanogaster (fruit fly)",
         "29",
         "18",
         "11",
         "62.06896551724138"
        ],
        [
         "Galactose metabolism - Drosophila melanogaster (fruit fly)",
         "35",
         "22",
         "13",
         "62.857142857142854"
        ],
        [
         "Arginine and proline metabolism - Drosophila melanogaster (fruit fly)",
         "53",
         "34",
         "19",
         "64.15094339622641"
        ]
       ],
       "shape": {
        "columns": 4,
        "rows": 20
       }
      },
      "text/html": [
       "<div>\n",
       "<style scoped>\n",
       "    .dataframe tbody tr th:only-of-type {\n",
       "        vertical-align: middle;\n",
       "    }\n",
       "\n",
       "    .dataframe tbody tr th {\n",
       "        vertical-align: top;\n",
       "    }\n",
       "\n",
       "    .dataframe thead th {\n",
       "        text-align: right;\n",
       "    }\n",
       "</style>\n",
       "<table border=\"1\" class=\"dataframe\">\n",
       "  <thead>\n",
       "    <tr style=\"text-align: right;\">\n",
       "      <th></th>\n",
       "      <th>orig_size</th>\n",
       "      <th>post_size</th>\n",
       "      <th>lost</th>\n",
       "      <th>pct_retained</th>\n",
       "    </tr>\n",
       "    <tr>\n",
       "      <th>source</th>\n",
       "      <th></th>\n",
       "      <th></th>\n",
       "      <th></th>\n",
       "      <th></th>\n",
       "    </tr>\n",
       "  </thead>\n",
       "  <tbody>\n",
       "    <tr>\n",
       "      <th>Vitamin B6 metabolism - Drosophila melanogaster (fruit fly)</th>\n",
       "      <td>6</td>\n",
       "      <td>0</td>\n",
       "      <td>6</td>\n",
       "      <td>0.000000</td>\n",
       "    </tr>\n",
       "    <tr>\n",
       "      <th>Glycosphingolipid biosynthesis - lacto and neolacto series - Drosophila melanogaster (fruit fly)</th>\n",
       "      <td>3</td>\n",
       "      <td>0</td>\n",
       "      <td>3</td>\n",
       "      <td>0.000000</td>\n",
       "    </tr>\n",
       "    <tr>\n",
       "      <th>Phenylalanine metabolism - Drosophila melanogaster (fruit fly)</th>\n",
       "      <td>8</td>\n",
       "      <td>0</td>\n",
       "      <td>8</td>\n",
       "      <td>0.000000</td>\n",
       "    </tr>\n",
       "    <tr>\n",
       "      <th>Phenylalanine, tyrosine and tryptophan biosynthesis - Drosophila melanogaster (fruit fly)</th>\n",
       "      <td>4</td>\n",
       "      <td>0</td>\n",
       "      <td>4</td>\n",
       "      <td>0.000000</td>\n",
       "    </tr>\n",
       "    <tr>\n",
       "      <th>Mannose type O-glycan biosynthesis - Drosophila melanogaster (fruit fly)</th>\n",
       "      <td>4</td>\n",
       "      <td>0</td>\n",
       "      <td>4</td>\n",
       "      <td>0.000000</td>\n",
       "    </tr>\n",
       "    <tr>\n",
       "      <th>Taurine and hypotaurine metabolism - Drosophila melanogaster (fruit fly)</th>\n",
       "      <td>9</td>\n",
       "      <td>0</td>\n",
       "      <td>9</td>\n",
       "      <td>0.000000</td>\n",
       "    </tr>\n",
       "    <tr>\n",
       "      <th>Glycosphingolipid biosynthesis - ganglio series - Drosophila melanogaster (fruit fly)</th>\n",
       "      <td>5</td>\n",
       "      <td>0</td>\n",
       "      <td>5</td>\n",
       "      <td>0.000000</td>\n",
       "    </tr>\n",
       "    <tr>\n",
       "      <th>Histidine metabolism - Drosophila melanogaster (fruit fly)</th>\n",
       "      <td>8</td>\n",
       "      <td>0</td>\n",
       "      <td>8</td>\n",
       "      <td>0.000000</td>\n",
       "    </tr>\n",
       "    <tr>\n",
       "      <th>Valine, leucine and isoleucine biosynthesis - Drosophila melanogaster (fruit fly)</th>\n",
       "      <td>2</td>\n",
       "      <td>0</td>\n",
       "      <td>2</td>\n",
       "      <td>0.000000</td>\n",
       "    </tr>\n",
       "    <tr>\n",
       "      <th>Glycosphingolipid biosynthesis - globo and isoglobo series - Drosophila melanogaster (fruit fly)</th>\n",
       "      <td>6</td>\n",
       "      <td>0</td>\n",
       "      <td>6</td>\n",
       "      <td>0.000000</td>\n",
       "    </tr>\n",
       "    <tr>\n",
       "      <th>Ubiquinone and other terpenoid-quinone biosynthesis - Drosophila melanogaster (fruit fly)</th>\n",
       "      <td>10</td>\n",
       "      <td>0</td>\n",
       "      <td>10</td>\n",
       "      <td>0.000000</td>\n",
       "    </tr>\n",
       "    <tr>\n",
       "      <th>Biotin metabolism - Drosophila melanogaster (fruit fly)</th>\n",
       "      <td>2</td>\n",
       "      <td>0</td>\n",
       "      <td>2</td>\n",
       "      <td>0.000000</td>\n",
       "    </tr>\n",
       "    <tr>\n",
       "      <th>Riboflavin metabolism - Drosophila melanogaster (fruit fly)</th>\n",
       "      <td>9</td>\n",
       "      <td>0</td>\n",
       "      <td>9</td>\n",
       "      <td>0.000000</td>\n",
       "    </tr>\n",
       "    <tr>\n",
       "      <th>Citrate cycle (TCA cycle) - Drosophila melanogaster (fruit fly)</th>\n",
       "      <td>43</td>\n",
       "      <td>22</td>\n",
       "      <td>21</td>\n",
       "      <td>51.162791</td>\n",
       "    </tr>\n",
       "    <tr>\n",
       "      <th>Fatty acid elongation - Drosophila melanogaster (fruit fly)</th>\n",
       "      <td>17</td>\n",
       "      <td>10</td>\n",
       "      <td>7</td>\n",
       "      <td>58.823529</td>\n",
       "    </tr>\n",
       "    <tr>\n",
       "      <th>Starch and sucrose metabolism - Drosophila melanogaster (fruit fly)</th>\n",
       "      <td>32</td>\n",
       "      <td>19</td>\n",
       "      <td>13</td>\n",
       "      <td>59.375000</td>\n",
       "    </tr>\n",
       "    <tr>\n",
       "      <th>Thiamine metabolism - Drosophila melanogaster (fruit fly)</th>\n",
       "      <td>21</td>\n",
       "      <td>13</td>\n",
       "      <td>8</td>\n",
       "      <td>61.904762</td>\n",
       "    </tr>\n",
       "    <tr>\n",
       "      <th>Fructose and mannose metabolism - Drosophila melanogaster (fruit fly)</th>\n",
       "      <td>29</td>\n",
       "      <td>18</td>\n",
       "      <td>11</td>\n",
       "      <td>62.068966</td>\n",
       "    </tr>\n",
       "    <tr>\n",
       "      <th>Galactose metabolism - Drosophila melanogaster (fruit fly)</th>\n",
       "      <td>35</td>\n",
       "      <td>22</td>\n",
       "      <td>13</td>\n",
       "      <td>62.857143</td>\n",
       "    </tr>\n",
       "    <tr>\n",
       "      <th>Arginine and proline metabolism - Drosophila melanogaster (fruit fly)</th>\n",
       "      <td>53</td>\n",
       "      <td>34</td>\n",
       "      <td>19</td>\n",
       "      <td>64.150943</td>\n",
       "    </tr>\n",
       "  </tbody>\n",
       "</table>\n",
       "</div>"
      ],
      "text/plain": [
       "                                                    orig_size  post_size  \\\n",
       "source                                                                     \n",
       "Vitamin B6 metabolism - Drosophila melanogaster...          6          0   \n",
       "Glycosphingolipid biosynthesis - lacto and neol...          3          0   \n",
       "Phenylalanine metabolism - Drosophila melanogas...          8          0   \n",
       "Phenylalanine, tyrosine and tryptophan biosynth...          4          0   \n",
       "Mannose type O-glycan biosynthesis - Drosophila...          4          0   \n",
       "Taurine and hypotaurine metabolism - Drosophila...          9          0   \n",
       "Glycosphingolipid biosynthesis - ganglio series...          5          0   \n",
       "Histidine metabolism - Drosophila melanogaster ...          8          0   \n",
       "Valine, leucine and isoleucine biosynthesis - D...          2          0   \n",
       "Glycosphingolipid biosynthesis - globo and isog...          6          0   \n",
       "Ubiquinone and other terpenoid-quinone biosynth...         10          0   \n",
       "Biotin metabolism - Drosophila melanogaster (fr...          2          0   \n",
       "Riboflavin metabolism - Drosophila melanogaster...          9          0   \n",
       "Citrate cycle (TCA cycle) - Drosophila melanoga...         43         22   \n",
       "Fatty acid elongation - Drosophila melanogaster...         17         10   \n",
       "Starch and sucrose metabolism - Drosophila mela...         32         19   \n",
       "Thiamine metabolism - Drosophila melanogaster (...         21         13   \n",
       "Fructose and mannose metabolism - Drosophila me...         29         18   \n",
       "Galactose metabolism - Drosophila melanogaster ...         35         22   \n",
       "Arginine and proline metabolism - Drosophila me...         53         34   \n",
       "\n",
       "                                                    lost  pct_retained  \n",
       "source                                                                  \n",
       "Vitamin B6 metabolism - Drosophila melanogaster...     6      0.000000  \n",
       "Glycosphingolipid biosynthesis - lacto and neol...     3      0.000000  \n",
       "Phenylalanine metabolism - Drosophila melanogas...     8      0.000000  \n",
       "Phenylalanine, tyrosine and tryptophan biosynth...     4      0.000000  \n",
       "Mannose type O-glycan biosynthesis - Drosophila...     4      0.000000  \n",
       "Taurine and hypotaurine metabolism - Drosophila...     9      0.000000  \n",
       "Glycosphingolipid biosynthesis - ganglio series...     5      0.000000  \n",
       "Histidine metabolism - Drosophila melanogaster ...     8      0.000000  \n",
       "Valine, leucine and isoleucine biosynthesis - D...     2      0.000000  \n",
       "Glycosphingolipid biosynthesis - globo and isog...     6      0.000000  \n",
       "Ubiquinone and other terpenoid-quinone biosynth...    10      0.000000  \n",
       "Biotin metabolism - Drosophila melanogaster (fr...     2      0.000000  \n",
       "Riboflavin metabolism - Drosophila melanogaster...     9      0.000000  \n",
       "Citrate cycle (TCA cycle) - Drosophila melanoga...    21     51.162791  \n",
       "Fatty acid elongation - Drosophila melanogaster...     7     58.823529  \n",
       "Starch and sucrose metabolism - Drosophila mela...    13     59.375000  \n",
       "Thiamine metabolism - Drosophila melanogaster (...     8     61.904762  \n",
       "Fructose and mannose metabolism - Drosophila me...    11     62.068966  \n",
       "Galactose metabolism - Drosophila melanogaster ...    13     62.857143  \n",
       "Arginine and proline metabolism - Drosophila me...    19     64.150943  "
      ]
     },
     "metadata": {},
     "output_type": "display_data"
    },
    {
     "name": "stdout",
     "output_type": "stream",
     "text": [
      "\n",
      "TOP 10 best-covered pathways:\n"
     ]
    },
    {
     "data": {
      "application/vnd.microsoft.datawrangler.viewer.v0+json": {
       "columns": [
        {
         "name": "source",
         "rawType": "object",
         "type": "string"
        },
        {
         "name": "orig_size",
         "rawType": "int32",
         "type": "integer"
        },
        {
         "name": "post_size",
         "rawType": "int32",
         "type": "integer"
        },
        {
         "name": "lost",
         "rawType": "int32",
         "type": "integer"
        },
        {
         "name": "pct_retained",
         "rawType": "float64",
         "type": "float"
        }
       ],
       "conversionMethod": "pd.DataFrame",
       "ref": "3d44e566-9fff-471c-8226-21a7f89c541b",
       "rows": [
        [
         "Fatty acid biosynthesis - Drosophila melanogaster (fruit fly)",
         "13",
         "13",
         "0",
         "100.0"
        ],
        [
         "Nicotinate and nicotinamide metabolism - Drosophila melanogaster (fruit fly)",
         "19",
         "18",
         "1",
         "94.73684210526316"
        ],
        [
         "alpha-Linolenic acid metabolism - Drosophila melanogaster (fruit fly)",
         "13",
         "12",
         "1",
         "92.3076923076923"
        ],
        [
         "Lysine degradation - Drosophila melanogaster (fruit fly)",
         "35",
         "32",
         "3",
         "91.42857142857143"
        ],
        [
         "Inositol phosphate metabolism - Drosophila melanogaster (fruit fly)",
         "45",
         "41",
         "4",
         "91.11111111111111"
        ],
        [
         "Fatty acid degradation - Drosophila melanogaster (fruit fly)",
         "33",
         "30",
         "3",
         "90.9090909090909"
        ],
        [
         "Sphingolipid metabolism - Drosophila melanogaster (fruit fly)",
         "32",
         "29",
         "3",
         "90.625"
        ],
        [
         "Pyrimidine metabolism - Drosophila melanogaster (fruit fly)",
         "38",
         "34",
         "4",
         "89.47368421052632"
        ],
        [
         "Glycerophospholipid metabolism - Drosophila melanogaster (fruit fly)",
         "64",
         "57",
         "7",
         "89.0625"
        ],
        [
         "beta-Alanine metabolism - Drosophila melanogaster (fruit fly)",
         "25",
         "22",
         "3",
         "88.0"
        ]
       ],
       "shape": {
        "columns": 4,
        "rows": 10
       }
      },
      "text/html": [
       "<div>\n",
       "<style scoped>\n",
       "    .dataframe tbody tr th:only-of-type {\n",
       "        vertical-align: middle;\n",
       "    }\n",
       "\n",
       "    .dataframe tbody tr th {\n",
       "        vertical-align: top;\n",
       "    }\n",
       "\n",
       "    .dataframe thead th {\n",
       "        text-align: right;\n",
       "    }\n",
       "</style>\n",
       "<table border=\"1\" class=\"dataframe\">\n",
       "  <thead>\n",
       "    <tr style=\"text-align: right;\">\n",
       "      <th></th>\n",
       "      <th>orig_size</th>\n",
       "      <th>post_size</th>\n",
       "      <th>lost</th>\n",
       "      <th>pct_retained</th>\n",
       "    </tr>\n",
       "    <tr>\n",
       "      <th>source</th>\n",
       "      <th></th>\n",
       "      <th></th>\n",
       "      <th></th>\n",
       "      <th></th>\n",
       "    </tr>\n",
       "  </thead>\n",
       "  <tbody>\n",
       "    <tr>\n",
       "      <th>Fatty acid biosynthesis - Drosophila melanogaster (fruit fly)</th>\n",
       "      <td>13</td>\n",
       "      <td>13</td>\n",
       "      <td>0</td>\n",
       "      <td>100.000000</td>\n",
       "    </tr>\n",
       "    <tr>\n",
       "      <th>Nicotinate and nicotinamide metabolism - Drosophila melanogaster (fruit fly)</th>\n",
       "      <td>19</td>\n",
       "      <td>18</td>\n",
       "      <td>1</td>\n",
       "      <td>94.736842</td>\n",
       "    </tr>\n",
       "    <tr>\n",
       "      <th>alpha-Linolenic acid metabolism - Drosophila melanogaster (fruit fly)</th>\n",
       "      <td>13</td>\n",
       "      <td>12</td>\n",
       "      <td>1</td>\n",
       "      <td>92.307692</td>\n",
       "    </tr>\n",
       "    <tr>\n",
       "      <th>Lysine degradation - Drosophila melanogaster (fruit fly)</th>\n",
       "      <td>35</td>\n",
       "      <td>32</td>\n",
       "      <td>3</td>\n",
       "      <td>91.428571</td>\n",
       "    </tr>\n",
       "    <tr>\n",
       "      <th>Inositol phosphate metabolism - Drosophila melanogaster (fruit fly)</th>\n",
       "      <td>45</td>\n",
       "      <td>41</td>\n",
       "      <td>4</td>\n",
       "      <td>91.111111</td>\n",
       "    </tr>\n",
       "    <tr>\n",
       "      <th>Fatty acid degradation - Drosophila melanogaster (fruit fly)</th>\n",
       "      <td>33</td>\n",
       "      <td>30</td>\n",
       "      <td>3</td>\n",
       "      <td>90.909091</td>\n",
       "    </tr>\n",
       "    <tr>\n",
       "      <th>Sphingolipid metabolism - Drosophila melanogaster (fruit fly)</th>\n",
       "      <td>32</td>\n",
       "      <td>29</td>\n",
       "      <td>3</td>\n",
       "      <td>90.625000</td>\n",
       "    </tr>\n",
       "    <tr>\n",
       "      <th>Pyrimidine metabolism - Drosophila melanogaster (fruit fly)</th>\n",
       "      <td>38</td>\n",
       "      <td>34</td>\n",
       "      <td>4</td>\n",
       "      <td>89.473684</td>\n",
       "    </tr>\n",
       "    <tr>\n",
       "      <th>Glycerophospholipid metabolism - Drosophila melanogaster (fruit fly)</th>\n",
       "      <td>64</td>\n",
       "      <td>57</td>\n",
       "      <td>7</td>\n",
       "      <td>89.062500</td>\n",
       "    </tr>\n",
       "    <tr>\n",
       "      <th>beta-Alanine metabolism - Drosophila melanogaster (fruit fly)</th>\n",
       "      <td>25</td>\n",
       "      <td>22</td>\n",
       "      <td>3</td>\n",
       "      <td>88.000000</td>\n",
       "    </tr>\n",
       "  </tbody>\n",
       "</table>\n",
       "</div>"
      ],
      "text/plain": [
       "                                                    orig_size  post_size  \\\n",
       "source                                                                     \n",
       "Fatty acid biosynthesis - Drosophila melanogast...         13         13   \n",
       "Nicotinate and nicotinamide metabolism - Drosop...         19         18   \n",
       "alpha-Linolenic acid metabolism - Drosophila me...         13         12   \n",
       "Lysine degradation - Drosophila melanogaster (f...         35         32   \n",
       "Inositol phosphate metabolism - Drosophila mela...         45         41   \n",
       "Fatty acid degradation - Drosophila melanogaste...         33         30   \n",
       "Sphingolipid metabolism - Drosophila melanogast...         32         29   \n",
       "Pyrimidine metabolism - Drosophila melanogaster...         38         34   \n",
       "Glycerophospholipid metabolism - Drosophila mel...         64         57   \n",
       "beta-Alanine metabolism - Drosophila melanogast...         25         22   \n",
       "\n",
       "                                                    lost  pct_retained  \n",
       "source                                                                  \n",
       "Fatty acid biosynthesis - Drosophila melanogast...     0    100.000000  \n",
       "Nicotinate and nicotinamide metabolism - Drosop...     1     94.736842  \n",
       "alpha-Linolenic acid metabolism - Drosophila me...     1     92.307692  \n",
       "Lysine degradation - Drosophila melanogaster (f...     3     91.428571  \n",
       "Inositol phosphate metabolism - Drosophila mela...     4     91.111111  \n",
       "Fatty acid degradation - Drosophila melanogaste...     3     90.909091  \n",
       "Sphingolipid metabolism - Drosophila melanogast...     3     90.625000  \n",
       "Pyrimidine metabolism - Drosophila melanogaster...     4     89.473684  \n",
       "Glycerophospholipid metabolism - Drosophila mel...     7     89.062500  \n",
       "beta-Alanine metabolism - Drosophila melanogast...     3     88.000000  "
      ]
     },
     "metadata": {},
     "output_type": "display_data"
    }
   ],
   "source": [
    "orig_size = (net_raw.groupby('source')['target']\n",
    "                   .nunique()\n",
    "                   .rename('orig_size'))\n",
    "\n",
    "post_size = (net_filtered.groupby('source')['target']\n",
    "                      .nunique()\n",
    "                      .rename('post_size'))\n",
    "\n",
    "stats = (pd.concat([orig_size, post_size], axis=1)\n",
    "           .fillna(0)\n",
    "           .assign(lost=lambda d: d.orig_size - d.post_size,\n",
    "                   pct_retained=lambda d: 100 * d.post_size / d.orig_size)\n",
    "           .astype({'orig_size': int, 'post_size': int, 'lost': int})\n",
    "           .sort_values('pct_retained'))\n",
    "\n",
    "print(\"TOP 20 most affected pathways:\")\n",
    "display(stats.head(20))\n",
    "\n",
    "print(\"\\nTOP 10 best-covered pathways:\")\n",
    "display(stats.sort_values('pct_retained', ascending=False).head(10))"
   ]
  },
  {
   "cell_type": "code",
   "execution_count": 49,
   "metadata": {},
   "outputs": [
    {
     "name": "stdout",
     "output_type": "stream",
     "text": [
      "Net shape: (1451, 4)\n",
      "Unique sources: 53\n",
      "Example net:\n",
      "                                               source    target    cg_id  \\\n",
      "0  Glycolysis / Gluconeogenesis - Drosophila mela...       Ldh  CG10160   \n",
      "2  Glycolysis / Gluconeogenesis - Drosophila mela...   CG10467  CG10467   \n",
      "3  Glycolysis / Gluconeogenesis - Drosophila mela...    Pepck2  CG10924   \n",
      "4  Glycolysis / Gluconeogenesis - Drosophila mela...   CG10996  CG10996   \n",
      "5  Glycolysis / Gluconeogenesis - Drosophila mela...  Aldh-III  CG11140   \n",
      "\n",
      "     symbol  \n",
      "0       Ldh  \n",
      "2     Galm2  \n",
      "3    Pepck2  \n",
      "4   CG10996  \n",
      "5  Aldh-III  \n",
      "Net shape: (1932, 2)\n",
      "Unique sources: 66\n",
      "Example net:\n",
      "                                               source   target\n",
      "0  Glycolysis / Gluconeogenesis - Drosophila mela...  CG10160\n",
      "1  Glycolysis / Gluconeogenesis - Drosophila mela...  CG10202\n",
      "2  Glycolysis / Gluconeogenesis - Drosophila mela...  CG10467\n",
      "3  Glycolysis / Gluconeogenesis - Drosophila mela...  CG10924\n",
      "4  Glycolysis / Gluconeogenesis - Drosophila mela...  CG10996\n"
     ]
    }
   ],
   "source": [
    "print(\"Net shape:\", net_filtered .shape)\n",
    "print(\"Unique sources:\", net_filtered ['source'].nunique())\n",
    "print(\"Example net:\\n\", net_filtered .head())\n",
    "print(\"Net shape:\", net_raw.shape)\n",
    "print(\"Unique sources:\", net_raw['source'].nunique())\n",
    "print(\"Example net:\\n\", net_raw.head())\n"
   ]
  },
  {
   "cell_type": "code",
   "execution_count": null,
   "metadata": {},
   "outputs": [],
   "source": [
    "from collections import defaultdict\n",
    "\n",
    "sc.tl.rank_genes_groups(\n",
    "    oviductless,\n",
    "    groupby='annotation',  \n",
    "    method='t-test',       \n",
    "    key_added='t-test'    \n",
    ")\n",
    "\n",
    "clusters = oviductless.uns['t-test']['names'].dtype.names\n",
    "t_stat_matrix = defaultdict(dict)\n",
    "\n",
    "for cluster in clusters:\n",
    "    df = sc.get.rank_genes_groups_df(oviductless, group=cluster, key='t-test')\n",
    "    for _, row in df.iterrows():\n",
    "        t_stat_matrix[row['names']][cluster] = row['scores']\n",
    "\n",
    "\n",
    "t_stats = pd.DataFrame.from_dict(t_stat_matrix, orient='index').fillna(0).T"
   ]
  },
  {
   "cell_type": "code",
   "execution_count": null,
   "metadata": {},
   "outputs": [
    {
     "name": "stdout",
     "output_type": "stream",
     "text": [
      "654 features of mat are empty, they will be removed.\n",
      "Running gsea on mat with 14 samples and 11806 targets for 53 sources.\n"
     ]
    },
    {
     "name": "stderr",
     "output_type": "stream",
     "text": [
      "100%|██████████| 14/14 [00:15<00:00,  1.09s/it]\n"
     ]
    }
   ],
   "source": [
    "import decoupler as dc\n",
    "\n",
    "scores, norm, pvals = dc.run_gsea(\n",
    "    mat=t_stats,\n",
    "    net=net_filtered,\n",
    "    source='source',\n",
    "    target='target',\n",
    "    seed=17,\n",
    "    use_raw=False,\n",
    "    verbose=True\n",
    ")\n",
    "gsea_results = pd.concat({\n",
    "    'score': scores.T,\n",
    "    'norm': norm.T,\n",
    "    'pval': pvals.T\n",
    "}, axis=1)  \n"
   ]
  },
  {
   "cell_type": "code",
   "execution_count": null,
   "metadata": {},
   "outputs": [],
   "source": [
    "gseares_copy = gsea_results.copy()\n",
    "gseares_copy.index = gseares_copy.index.str.replace(\" - Drosophila melanogaster \\(fruit fly\\)\", \"\", regex=True)\\\n",
    "                                       .str.replace(\"/\", \"_\")\\\n",
    "                                       .str.replace(\" \", \"_\")\n",
    "signif_mask = (gseares_copy['pval'] < 0.1)  # relaxed significance threshold\n",
    "\n",
    "any_signif = signif_mask.any(axis=1)\n",
    "\n",
    "all_significant_pathways = gseares_copy.index[any_signif]\n",
    "\n",
    "\n",
    "\n",
    "heatmap_data = gseares_copy['norm'].loc[all_significant_pathways]\n",
    "pvals_for_heatmap = gseares_copy['pval'].loc[heatmap_data.index, heatmap_data.columns]\n",
    "\n",
    "def starify(p):\n",
    "    if p < 0.001:\n",
    "        return '***'\n",
    "    elif p < 0.01:\n",
    "        return '**'\n",
    "    elif p < 0.05:\n",
    "        return '*'\n",
    "    else:\n",
    "        return ''\n",
    "\n",
    "asterisk_mask = pvals_for_heatmap.applymap(starify)\n",
    "\n",
    "g = sns.clustermap(\n",
    "    heatmap_data,\n",
    "    cmap=\"RdBu_r\",\n",
    "    center=0,\n",
    "    figsize=(14, len(heatmap_data) * 0.4),\n",
    "    col_cluster=True,\n",
    "    row_cluster=False,  \n",
    "    annot=False  \n",
    ")\n",
    "\n",
    "g.cax.set_title(\"NES\", fontsize=10)\n",
    "reordered_rows = heatmap_data.index\n",
    "reordered_cols = heatmap_data.columns[g.dendrogram_col.reordered_ind]\n",
    "reordered_mask = asterisk_mask.loc[reordered_rows, reordered_cols]\n",
    "\n",
    "\n",
    "for i, pathway in enumerate(reordered_rows):\n",
    "    for j, cluster in enumerate(reordered_cols):\n",
    "        val = reordered_mask.loc[pathway, cluster]\n",
    "        if val:\n",
    "            g.ax_heatmap.text(j + 0.5, i + 0.5, val,\n",
    "                              ha='center', va='center', color='white', fontsize=9, fontweight='bold')\n",
    "\n",
    "\n",
    "g.ax_heatmap.set_xlabel(\"Cluster\")\n",
    "g.ax_heatmap.set_ylabel(\"Pathway\")\n",
    "g.fig.suptitle(\"GSEA Pathways (Clustered) with Significance\\n(* p<0.05, ** p<0.01, *** p<0.001)\", y=1.05)\n",
    "\n",
    "plt.show()\n"
   ]
  },
  {
   "cell_type": "code",
   "execution_count": null,
   "metadata": {},
   "outputs": [],
   "source": [
    "sc.pl.umap(\n",
    "    oviductless, \n",
    "    color=\"annotation\",\n",
    "    ncols=1\n",
    ")"
   ]
  },
  {
   "cell_type": "code",
   "execution_count": null,
   "metadata": {},
   "outputs": [],
   "source": [
    "dc.run_aucell(\n",
    "    mat=oviductless,\n",
    "    net=net_filtered,\n",
    "    source='source',\n",
    "    target='target',\n",
    "    use_raw=False\n",
    ")"
   ]
  },
  {
   "cell_type": "code",
   "execution_count": null,
   "metadata": {},
   "outputs": [],
   "source": [
    "all_pathways = list(oviductless.obsm[\"aucell_estimate\"].columns)\n",
    "\n",
    "simplified_names = [p.replace(\" - Drosophila melanogaster (fruit fly)\", \"\")\n",
    "                      .replace(\"/\", \"_\")\n",
    "                      .replace(\" \", \"_\") for p in all_pathways]\n",
    "\n",
    "for original, new_name in zip(all_pathways, simplified_names):\n",
    "    oviductless.obs[new_name] = oviductless.obsm[\"aucell_estimate\"][original]\n",
    "\n",
    "for pathway in simplified_names:\n",
    "    sc.pl.umap(oviductless, color=pathway, cmap=\"viridis\", show=True)\n"
   ]
  },
  {
   "cell_type": "code",
   "execution_count": 71,
   "metadata": {},
   "outputs": [
    {
     "name": "stderr",
     "output_type": "stream",
     "text": [
      "C:\\Users\\unite\\AppData\\Local\\Temp\\ipykernel_7160\\2333126459.py:17: FutureWarning: The default of observed=False is deprecated and will be changed to True in a future version of pandas. Pass observed=False to retain current behavior or observed=True to adopt the future default and silence this warning.\n",
      "  pathway_scores_mean = pathway_scores.groupby(\"label\").mean().T\n"
     ]
    }
   ],
   "source": [
    "import pandas as pd\n",
    "import seaborn as sns\n",
    "import matplotlib.pyplot as plt\n",
    "\n",
    "# Extract wmean pathway scores\n",
    "pathway_scores = pd.DataFrame(fca_soma.obsm[\"aucell_estimate\"], index=fca_soma.obs_names)\n",
    "\n",
    "# Add cell labels\n",
    "pathway_scores[\"label\"] = fca_soma.obs[\"label\"]\n",
    "\n",
    "pathway_scores.columns = [\n",
    "    col.replace(\" - Drosophila melanogaster (fruit fly)\", \"\").replace(\"/\", \"_\").replace(\" \", \"_\")\n",
    "    for col in pathway_scores.columns\n",
    "]\n",
    "\n",
    "# Compute mean pathway scores per label (cluster)\n",
    "pathway_scores_mean = pathway_scores.groupby(\"label\").mean().T\n",
    "\n",
    "\n"
   ]
  }
 ],
 "metadata": {
  "kernelspec": {
   "display_name": "label_harmony",
   "language": "python",
   "name": "python3"
  },
  "language_info": {
   "codemirror_mode": {
    "name": "ipython",
    "version": 3
   },
   "file_extension": ".py",
   "mimetype": "text/x-python",
   "name": "python",
   "nbconvert_exporter": "python",
   "pygments_lexer": "ipython3",
   "version": "3.12.8"
  }
 },
 "nbformat": 4,
 "nbformat_minor": 2
}
